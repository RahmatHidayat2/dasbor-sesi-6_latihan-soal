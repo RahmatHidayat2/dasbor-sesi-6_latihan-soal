{
 "cells": [
  {
   "cell_type": "code",
   "execution_count": 2,
   "id": "73ef4655",
   "metadata": {},
   "outputs": [
    {
     "name": "stdout",
     "output_type": "stream",
     "text": [
      "Dingin\n",
      "Hari ini sangat cerah\n"
     ]
    }
   ],
   "source": [
    "cuaca = \"Hujan\"\n",
    "if cuaca == \"Hujan\":\n",
    "    print(\"Dingin\")\n",
    "    print(\"Hari ini sangat cerah\")"
   ]
  },
  {
   "cell_type": "code",
   "execution_count": 9,
   "id": "57f48355",
   "metadata": {},
   "outputs": [
    {
     "ename": "SyntaxError",
     "evalue": "invalid syntax (3604820208.py, line 2)",
     "output_type": "error",
     "traceback": [
      "\u001b[1;36m  Input \u001b[1;32mIn [9]\u001b[1;36m\u001b[0m\n\u001b[1;33m    sisa bagi = nilai % 2\u001b[0m\n\u001b[1;37m         ^\u001b[0m\n\u001b[1;31mSyntaxError\u001b[0m\u001b[1;31m:\u001b[0m invalid syntax\n"
     ]
    }
   ],
   "source": [
    "nilai = 10\n",
    "sisa bagi = nilai % 2\n",
    "if sisa bagi == 0:\n",
    "    print(f\"nilai) \"adalah bilangan genap\")\n",
    "    else :\n",
    "        print (f\"nilai) \"adalah bilangan ganjil)"
   ]
  },
  {
   "cell_type": "code",
   "execution_count": 13,
   "id": "17cf8a0b",
   "metadata": {},
   "outputs": [
    {
     "name": "stdout",
     "output_type": "stream",
     "text": [
      "Isi nilai10000\n"
     ]
    }
   ],
   "source": [
    "nilai = int(input(\"Isi nilai\"))\n",
    "if nilai <= 100:\n",
    "          print(f\"{nilai} adalah nilai E\")\n",
    "elif nilai <= 59:\n",
    "          print(f\"{nilai} adalah nilai D\")\n",
    "elif nilai <= 69:\n",
    "          print(f\"{nilai} adalah nilai C\")\n",
    "elif nilai <= 84:\n",
    "          print(f\"{nilai} adalah nilai B\")\n",
    "elif nilai <= 100:\n",
    "          print(f\"{nilai} adalah nilai A\")"
   ]
  },
  {
   "cell_type": "code",
   "execution_count": 16,
   "id": "576d4724",
   "metadata": {},
   "outputs": [
    {
     "ename": "SyntaxError",
     "evalue": "invalid syntax (3425517895.py, line 4)",
     "output_type": "error",
     "traceback": [
      "\u001b[1;36m  Input \u001b[1;32mIn [16]\u001b[1;36m\u001b[0m\n\u001b[1;33m    if username = \"admin\":\u001b[0m\n\u001b[1;37m                ^\u001b[0m\n\u001b[1;31mSyntaxError\u001b[0m\u001b[1;31m:\u001b[0m invalid syntax\n"
     ]
    }
   ],
   "source": [
    "username = input(\"isikan username: \")\n",
    "password = input(\"isikan password: \")\n",
    "\n",
    "if username = \"admin\":\n",
    "    if fassword == \"admin\":\n",
    "        print(f\"selamat datang (userename)\")\n",
    "    else:\n",
    "        print(\"password anda salah\")\n",
    "else:\n",
    "    if fassword == \"admin\":\n",
    "        print(\"username anda salah\")\n",
    "    else:\n",
    "        print(\"username dan fassword anda salah\")"
   ]
  },
  {
   "cell_type": "code",
   "execution_count": 19,
   "id": "5c47481a",
   "metadata": {},
   "outputs": [
    {
     "ename": "SyntaxError",
     "evalue": "invalid syntax (2393088158.py, line 7)",
     "output_type": "error",
     "traceback": [
      "\u001b[1;36m  Input \u001b[1;32mIn [19]\u001b[1;36m\u001b[0m\n\u001b[1;33m    if umur > 40\u001b[0m\n\u001b[1;37m                ^\u001b[0m\n\u001b[1;31mSyntaxError\u001b[0m\u001b[1;31m:\u001b[0m invalid syntax\n"
     ]
    }
   ],
   "source": [
    "nama = input(\"Masukan nilai: \")\n",
    "umur = int(input(\"Masukan umur: \"))\n",
    "tempat_tingal = input(\"Masukan nama: \")\n",
    "uang_tabungan = input(\"Masukan berapa uang tabungan \")\n",
    "\n",
    "if nama == don:\n",
    "    if umur > 40\n",
    "    else tempat_tinggal == \"Madrid\" or tempat_tinggal == \"Nevada\" or tempat_tinggal == \"New York\"\n",
    "    else tabungan 1000000\n",
    "        pangkat = \"Don\"\n",
    "        \n",
    "if pangkat != \"\":\n",
    "    print(f\"{nama} kemungkuinan anggota mafia dengan pangkat)"
   ]
  },
  {
   "cell_type": "code",
   "execution_count": null,
   "id": "f8c5211f",
   "metadata": {},
   "outputs": [],
   "source": []
  },
  {
   "cell_type": "code",
   "execution_count": null,
   "id": "2a6f2c3b",
   "metadata": {},
   "outputs": [],
   "source": []
  },
  {
   "cell_type": "code",
   "execution_count": null,
   "id": "7fc5d7de",
   "metadata": {},
   "outputs": [],
   "source": []
  },
  {
   "cell_type": "code",
   "execution_count": null,
   "id": "a1cbb7cc",
   "metadata": {},
   "outputs": [],
   "source": []
  }
 ],
 "metadata": {
  "kernelspec": {
   "display_name": "Python 3 (ipykernel)",
   "language": "python",
   "name": "python3"
  },
  "language_info": {
   "codemirror_mode": {
    "name": "ipython",
    "version": 3
   },
   "file_extension": ".py",
   "mimetype": "text/x-python",
   "name": "python",
   "nbconvert_exporter": "python",
   "pygments_lexer": "ipython3",
   "version": "3.9.12"
  }
 },
 "nbformat": 4,
 "nbformat_minor": 5
}
